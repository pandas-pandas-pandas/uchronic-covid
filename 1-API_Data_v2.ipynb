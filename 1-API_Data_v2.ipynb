{
 "metadata": {
  "language_info": {
   "codemirror_mode": {
    "name": "ipython",
    "version": 3
   },
   "file_extension": ".py",
   "mimetype": "text/x-python",
   "name": "python",
   "nbconvert_exporter": "python",
   "pygments_lexer": "ipython3",
   "version": 3
  },
  "orig_nbformat": 2
 },
 "nbformat": 4,
 "nbformat_minor": 2,
 "cells": [
  {
   "cell_type": "code",
   "execution_count": null,
   "metadata": {},
   "outputs": [],
   "source": [
    "from urllib.parse import urlencode\n",
    "from json import dumps\n",
    "from requests import get\n",
    "\n",
    "\n",
    "ENDPOINT = \"https://api.coronavirus.data.gov.uk/v1/data\"\n",
    "AREA_TYPE = \"overview\"\n",
    "AREA_NAME = \"england\"\n",
    "\n",
    "filters = [\n",
    "    f\"areaType={ AREA_TYPE }\",\n",
    "    f\"areaName={ AREA_NAME }\"\n",
    "]\n",
    "\n",
    "structure = {\n",
    "    \"date\": \"date\",\n",
    "    \"name\": \"areaName\",\n",
    "    \"code\": \"areaCode\",\n",
    "    \"cases\": {\n",
    "        \"daily\": \"newCasesByPublishDate\",\n",
    "        \"cumulative\": \"cumCasesByPublishDate\"\n",
    "    },\n",
    "    \"deaths\": {\n",
    "        \"daily\": \"newDeathsByDeathDate\",\n",
    "        \"cumulative\": \"cumDeathsByDeathDate\"\n",
    "    }\n",
    "}\n",
    "\n",
    "api_params = {\n",
    "    \"filters\": str.join(\";\", filters),\n",
    "    \"structure\": dumps(structure, separators=(\",\", \":\")),\n",
    "    \"latestBy\": \"newCasesByPublishDate\"\n",
    "}\n",
    "\n",
    "encoded_params = urlencode(api_params)\n",
    "\n",
    "response = get(f\"{ ENDPOINT }?{ encoded_params }\", timeout=10)\n",
    "\n",
    "if response.status_code >= 400:\n",
    "    raise RuntimeError(f'Request failed: { response.text }')\n",
    "\n",
    "data = response.json()\n",
    "\n",
    "print(data)"
   ]
  },
  {
   "source": [],
   "cell_type": "markdown",
   "metadata": {}
  }
 ]
}